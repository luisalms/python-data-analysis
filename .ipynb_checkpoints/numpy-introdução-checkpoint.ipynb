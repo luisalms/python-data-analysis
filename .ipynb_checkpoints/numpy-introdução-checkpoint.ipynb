{
 "cells": [
  {
   "cell_type": "markdown",
   "id": "d19e1ce7",
   "metadata": {},
   "source": [
    "# Introdução ao NumPy - Primeiros passos na biblioteca"
   ]
  },
  {
   "cell_type": "markdown",
   "id": "bc2ea58f",
   "metadata": {},
   "source": [
    "### Criando matrizes:"
   ]
  },
  {
   "cell_type": "code",
   "execution_count": 27,
   "id": "75cc4eaf",
   "metadata": {},
   "outputs": [
    {
     "name": "stdout",
     "output_type": "stream",
     "text": [
      "[1 2 3]\n"
     ]
    }
   ],
   "source": [
    "import numpy as np\n",
    "\n",
    "a = np.array([1, 2, 3]) # array de uma dimensão.\n",
    "print(a)"
   ]
  },
  {
   "cell_type": "code",
   "execution_count": 28,
   "id": "0015d467",
   "metadata": {},
   "outputs": [
    {
     "name": "stdout",
     "output_type": "stream",
     "text": [
      "[[2 3 4]\n",
      " [5 6 7]\n",
      " [8 9 1]]\n"
     ]
    }
   ],
   "source": [
    "b = np.array([(2, 3, 4), (5, 6, 7), (8, 9, 1)])  # array de múltiplas dimensões.\n",
    "print(b)"
   ]
  },
  {
   "cell_type": "code",
   "execution_count": 29,
   "id": "432333f1",
   "metadata": {},
   "outputs": [
    {
     "name": "stdout",
     "output_type": "stream",
     "text": [
      "[[0. 0. 0.]\n",
      " [0. 0. 0.]\n",
      " [0. 0. 0.]\n",
      " [0. 0. 0.]]\n"
     ]
    }
   ],
   "source": [
    "c = np.zeros((4, 3)) # a função \"zeros\" imprime uma matriz de 4 por 3.\n",
    "print(c)"
   ]
  },
  {
   "cell_type": "code",
   "execution_count": 30,
   "id": "83b1a771",
   "metadata": {},
   "outputs": [
    {
     "name": "stdout",
     "output_type": "stream",
     "text": [
      "[[1. 1. 1. 1.]\n",
      " [1. 1. 1. 1.]\n",
      " [1. 1. 1. 1.]]\n"
     ]
    }
   ],
   "source": [
    "d = np.ones((3, 4)) # a função \"ones\" imprime uma matriz de 3 por 4.\n",
    "print(d)"
   ]
  },
  {
   "cell_type": "code",
   "execution_count": 31,
   "id": "4a277cdf",
   "metadata": {},
   "outputs": [
    {
     "name": "stdout",
     "output_type": "stream",
     "text": [
      "[[1. 0. 0. 0.]\n",
      " [0. 1. 0. 0.]\n",
      " [0. 0. 1. 0.]\n",
      " [0. 0. 0. 1.]]\n"
     ]
    }
   ],
   "source": [
    "e = np.eye(4) # a função eye cria uma matriz cuja diagonal principal é de 1 enquanto o restante 0.\n",
    "print(e0"
   ]
  },
  {
   "cell_type": "markdown",
   "id": "19f8e2f9",
   "metadata": {},
   "source": [
    "### Aplicando funções nas minhas variáveis:"
   ]
  },
  {
   "cell_type": "markdown",
   "id": "28951d7f",
   "metadata": {},
   "source": [
    "##### Usando a variável b de exemplo"
   ]
  },
  {
   "cell_type": "code",
   "execution_count": 34,
   "id": "dc64b468",
   "metadata": {},
   "outputs": [
    {
     "data": {
      "text/plain": [
       "9"
      ]
     },
     "execution_count": 34,
     "metadata": {},
     "output_type": "execute_result"
    }
   ],
   "source": [
    "b.max() # função que mostra o maior elemento da matriz."
   ]
  },
  {
   "cell_type": "code",
   "execution_count": 37,
   "id": "bf1e9887",
   "metadata": {},
   "outputs": [
    {
     "data": {
      "text/plain": [
       "1"
      ]
     },
     "execution_count": 37,
     "metadata": {},
     "output_type": "execute_result"
    }
   ],
   "source": [
    "b.min() # função que mostra o menor elemento da matriz."
   ]
  },
  {
   "cell_type": "code",
   "execution_count": 40,
   "id": "374886be",
   "metadata": {},
   "outputs": [
    {
     "data": {
      "text/plain": [
       "45"
      ]
     },
     "execution_count": 40,
     "metadata": {},
     "output_type": "execute_result"
    }
   ],
   "source": [
    "b.sum() # função que soma todos os elementos da matriz."
   ]
  },
  {
   "cell_type": "code",
   "execution_count": 41,
   "id": "078b555c",
   "metadata": {},
   "outputs": [
    {
     "data": {
      "text/plain": [
       "5.0"
      ]
     },
     "execution_count": 41,
     "metadata": {},
     "output_type": "execute_result"
    }
   ],
   "source": [
    "b.mean() # função que calcula a média."
   ]
  },
  {
   "cell_type": "code",
   "execution_count": 43,
   "id": "df187b87",
   "metadata": {},
   "outputs": [
    {
     "data": {
      "text/plain": [
       "2.581988897471611"
      ]
     },
     "execution_count": 43,
     "metadata": {},
     "output_type": "execute_result"
    }
   ],
   "source": [
    "b.std() # função que calcula o desvio padrão."
   ]
  },
  {
   "cell_type": "markdown",
   "id": "35e22e2f",
   "metadata": {},
   "source": [
    "obs.: sei que esses nomes de variáveis não seguem as boas práticas, no entanto, é apenas em caráter de aprendizado considerando a praticidade."
   ]
  }
 ],
 "metadata": {
  "kernelspec": {
   "display_name": "Python 3 (ipykernel)",
   "language": "python",
   "name": "python3"
  },
  "language_info": {
   "codemirror_mode": {
    "name": "ipython",
    "version": 3
   },
   "file_extension": ".py",
   "mimetype": "text/x-python",
   "name": "python",
   "nbconvert_exporter": "python",
   "pygments_lexer": "ipython3",
   "version": "3.11.5"
  }
 },
 "nbformat": 4,
 "nbformat_minor": 5
}
